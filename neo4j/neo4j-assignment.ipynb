{
 "cells": [
  {
   "cell_type": "markdown",
   "metadata": {},
   "source": [
    "# Installation\n",
    "\n",
    "With the help of docker we downloaded a neo4j image locally, and we started the container with the following command: \n",
    "```\n",
    "docker run  --platform linux/amd64 -p7474:7474  -p7687:7687 -d --env  NEO4J_AUTH=neo4j/test neo4j:latest\n",
    "```\n"
   ]
  },
  {
   "cell_type": "markdown",
   "metadata": {},
   "source": [
    "# DB Connection \n",
    "\n",
    "We will use Python to connect to our database. \n",
    "For this reason we should install the neo4j package from PyPI"
   ]
  },
  {
   "cell_type": "code",
   "execution_count": 5,
   "metadata": {},
   "outputs": [
    {
     "name": "stdout",
     "output_type": "stream",
     "text": [
      "\u001b[33mDEPRECATION: Configuring installation scheme with distutils config files is deprecated and will no longer work in the near future. If you are using a Homebrew or Linuxbrew Python, please see discussion at https://github.com/Homebrew/homebrew-core/issues/76621\u001b[0m\u001b[33m\n",
      "\u001b[0mRequirement already satisfied: neo4j in /opt/homebrew/lib/python3.9/site-packages (4.2.1)\n",
      "Requirement already satisfied: pytz in /opt/homebrew/lib/python3.9/site-packages (from neo4j) (2021.3)\n",
      "\u001b[33mDEPRECATION: Configuring installation scheme with distutils config files is deprecated and will no longer work in the near future. If you are using a Homebrew or Linuxbrew Python, please see discussion at https://github.com/Homebrew/homebrew-core/issues/76621\u001b[0m\u001b[33m\n",
      "\u001b[0m"
     ]
    }
   ],
   "source": [
    "! pip3 install neo4j"
   ]
  },
  {
   "cell_type": "code",
   "execution_count": 6,
   "metadata": {},
   "outputs": [],
   "source": [
    "from neo4j import GraphDatabase\n",
    "\n",
    "driver = GraphDatabase.driver(\"bolt://localhost:7687\", auth=(\"neo4j\", \"test\"), encrypted=False)"
   ]
  },
  {
   "cell_type": "markdown",
   "metadata": {},
   "source": [
    "# Data Loading\n",
    "\n",
    "First, we need to read our data from the file system, where they are save as .tsv files. The data were downloaded from\n",
    "this url: https://snap.stanford.edu/data/act-mooc.html\n",
    "We will use pandas in order to read our data"
   ]
  },
  {
   "cell_type": "code",
   "execution_count": 7,
   "metadata": {},
   "outputs": [],
   "source": [
    "\n",
    "import pandas as pd\n",
    "\n",
    "#Read data from .tsv files\n",
    "actions = pd.read_csv('act-mooc/mooc_actions.tsv', sep='\\t')\n",
    "labels = pd.read_csv('act-mooc/mooc_action_labels.tsv', sep='\\t')\n",
    "features = pd.read_csv('act-mooc/mooc_action_features.tsv', sep='\\t')"
   ]
  },
  {
   "cell_type": "markdown",
   "metadata": {},
   "source": [
    "## Load Users"
   ]
  },
  {
   "cell_type": "code",
   "execution_count": 22,
   "metadata": {},
   "outputs": [],
   "source": [
    "with driver.session() as session:\n",
    "\n",
    "    for id in actions[\"USERID\"].unique():\n",
    "        result = session.run(\"Create (n:User) \"\n",
    "                        \"SET n.id = $id \"\n",
    "                        \"RETURN 'User:' + id(n)\", id=int(id))\n",
    "    "
   ]
  },
  {
   "cell_type": "markdown",
   "metadata": {},
   "source": [
    "## Load Targets"
   ]
  },
  {
   "cell_type": "code",
   "execution_count": 25,
   "metadata": {},
   "outputs": [],
   "source": [
    "    for id in actions[\"TARGETID\"].unique():\n",
    "        result = session.run(\"Create (n:Target) \"\n",
    "                        \"SET n.id = $id \"\n",
    "                        \"RETURN 'Target:' + id(n)\", id=int(id))"
   ]
  },
  {
   "cell_type": "markdown",
   "metadata": {},
   "source": [
    "## Load Actions\n",
    "\n",
    "In order to load the actions to our graph database, we need to create a merged dataframe containing for each action its attributes"
   ]
  },
  {
   "cell_type": "code",
   "execution_count": 34,
   "metadata": {},
   "outputs": [
    {
     "data": {
      "text/html": [
       "<div>\n",
       "<style scoped>\n",
       "    .dataframe tbody tr th:only-of-type {\n",
       "        vertical-align: middle;\n",
       "    }\n",
       "\n",
       "    .dataframe tbody tr th {\n",
       "        vertical-align: top;\n",
       "    }\n",
       "\n",
       "    .dataframe thead th {\n",
       "        text-align: right;\n",
       "    }\n",
       "</style>\n",
       "<table border=\"1\" class=\"dataframe\">\n",
       "  <thead>\n",
       "    <tr style=\"text-align: right;\">\n",
       "      <th></th>\n",
       "      <th>ACTIONID</th>\n",
       "      <th>USERID</th>\n",
       "      <th>TARGETID</th>\n",
       "      <th>TIMESTAMP</th>\n",
       "      <th>LABEL</th>\n",
       "      <th>FEATURE0</th>\n",
       "      <th>FEATURE1</th>\n",
       "      <th>FEATURE2</th>\n",
       "      <th>FEATURE3</th>\n",
       "    </tr>\n",
       "  </thead>\n",
       "  <tbody>\n",
       "    <tr>\n",
       "      <th>0</th>\n",
       "      <td>0</td>\n",
       "      <td>0</td>\n",
       "      <td>0</td>\n",
       "      <td>0.0</td>\n",
       "      <td>0</td>\n",
       "      <td>-0.319991</td>\n",
       "      <td>-0.435701</td>\n",
       "      <td>0.106784</td>\n",
       "      <td>-0.067309</td>\n",
       "    </tr>\n",
       "    <tr>\n",
       "      <th>1</th>\n",
       "      <td>1</td>\n",
       "      <td>0</td>\n",
       "      <td>1</td>\n",
       "      <td>6.0</td>\n",
       "      <td>0</td>\n",
       "      <td>-0.319991</td>\n",
       "      <td>-0.435701</td>\n",
       "      <td>0.106784</td>\n",
       "      <td>-0.067309</td>\n",
       "    </tr>\n",
       "    <tr>\n",
       "      <th>2</th>\n",
       "      <td>2</td>\n",
       "      <td>0</td>\n",
       "      <td>2</td>\n",
       "      <td>41.0</td>\n",
       "      <td>0</td>\n",
       "      <td>-0.319991</td>\n",
       "      <td>-0.435701</td>\n",
       "      <td>0.106784</td>\n",
       "      <td>-0.067309</td>\n",
       "    </tr>\n",
       "    <tr>\n",
       "      <th>3</th>\n",
       "      <td>3</td>\n",
       "      <td>0</td>\n",
       "      <td>1</td>\n",
       "      <td>49.0</td>\n",
       "      <td>0</td>\n",
       "      <td>-0.319991</td>\n",
       "      <td>-0.435701</td>\n",
       "      <td>0.106784</td>\n",
       "      <td>-0.067309</td>\n",
       "    </tr>\n",
       "    <tr>\n",
       "      <th>4</th>\n",
       "      <td>4</td>\n",
       "      <td>0</td>\n",
       "      <td>2</td>\n",
       "      <td>51.0</td>\n",
       "      <td>0</td>\n",
       "      <td>-0.319991</td>\n",
       "      <td>-0.435701</td>\n",
       "      <td>0.106784</td>\n",
       "      <td>-0.067309</td>\n",
       "    </tr>\n",
       "    <tr>\n",
       "      <th>...</th>\n",
       "      <td>...</td>\n",
       "      <td>...</td>\n",
       "      <td>...</td>\n",
       "      <td>...</td>\n",
       "      <td>...</td>\n",
       "      <td>...</td>\n",
       "      <td>...</td>\n",
       "      <td>...</td>\n",
       "      <td>...</td>\n",
       "    </tr>\n",
       "    <tr>\n",
       "      <th>411744</th>\n",
       "      <td>411744</td>\n",
       "      <td>7026</td>\n",
       "      <td>8</td>\n",
       "      <td>2572041.0</td>\n",
       "      <td>0</td>\n",
       "      <td>-0.319991</td>\n",
       "      <td>-0.435701</td>\n",
       "      <td>0.106784</td>\n",
       "      <td>-0.067309</td>\n",
       "    </tr>\n",
       "    <tr>\n",
       "      <th>411745</th>\n",
       "      <td>411745</td>\n",
       "      <td>6842</td>\n",
       "      <td>8</td>\n",
       "      <td>2572043.0</td>\n",
       "      <td>0</td>\n",
       "      <td>-0.319991</td>\n",
       "      <td>-0.435701</td>\n",
       "      <td>0.106784</td>\n",
       "      <td>-0.067309</td>\n",
       "    </tr>\n",
       "    <tr>\n",
       "      <th>411746</th>\n",
       "      <td>411746</td>\n",
       "      <td>7026</td>\n",
       "      <td>9</td>\n",
       "      <td>2572048.0</td>\n",
       "      <td>0</td>\n",
       "      <td>-0.319991</td>\n",
       "      <td>-0.435701</td>\n",
       "      <td>0.106784</td>\n",
       "      <td>-0.067309</td>\n",
       "    </tr>\n",
       "    <tr>\n",
       "      <th>411747</th>\n",
       "      <td>411747</td>\n",
       "      <td>6842</td>\n",
       "      <td>5</td>\n",
       "      <td>2572054.0</td>\n",
       "      <td>0</td>\n",
       "      <td>-0.319991</td>\n",
       "      <td>-0.435701</td>\n",
       "      <td>0.106784</td>\n",
       "      <td>-0.067309</td>\n",
       "    </tr>\n",
       "    <tr>\n",
       "      <th>411748</th>\n",
       "      <td>411748</td>\n",
       "      <td>70</td>\n",
       "      <td>23</td>\n",
       "      <td>2572086.0</td>\n",
       "      <td>0</td>\n",
       "      <td>-0.319991</td>\n",
       "      <td>-0.435701</td>\n",
       "      <td>0.106784</td>\n",
       "      <td>-0.067309</td>\n",
       "    </tr>\n",
       "  </tbody>\n",
       "</table>\n",
       "<p>411749 rows × 9 columns</p>\n",
       "</div>"
      ],
      "text/plain": [
       "        ACTIONID  USERID  TARGETID  TIMESTAMP  LABEL  FEATURE0  FEATURE1  \\\n",
       "0              0       0         0        0.0      0 -0.319991 -0.435701   \n",
       "1              1       0         1        6.0      0 -0.319991 -0.435701   \n",
       "2              2       0         2       41.0      0 -0.319991 -0.435701   \n",
       "3              3       0         1       49.0      0 -0.319991 -0.435701   \n",
       "4              4       0         2       51.0      0 -0.319991 -0.435701   \n",
       "...          ...     ...       ...        ...    ...       ...       ...   \n",
       "411744    411744    7026         8  2572041.0      0 -0.319991 -0.435701   \n",
       "411745    411745    6842         8  2572043.0      0 -0.319991 -0.435701   \n",
       "411746    411746    7026         9  2572048.0      0 -0.319991 -0.435701   \n",
       "411747    411747    6842         5  2572054.0      0 -0.319991 -0.435701   \n",
       "411748    411748      70        23  2572086.0      0 -0.319991 -0.435701   \n",
       "\n",
       "        FEATURE2  FEATURE3  \n",
       "0       0.106784 -0.067309  \n",
       "1       0.106784 -0.067309  \n",
       "2       0.106784 -0.067309  \n",
       "3       0.106784 -0.067309  \n",
       "4       0.106784 -0.067309  \n",
       "...          ...       ...  \n",
       "411744  0.106784 -0.067309  \n",
       "411745  0.106784 -0.067309  \n",
       "411746  0.106784 -0.067309  \n",
       "411747  0.106784 -0.067309  \n",
       "411748  0.106784 -0.067309  \n",
       "\n",
       "[411749 rows x 9 columns]"
      ]
     },
     "execution_count": 34,
     "metadata": {},
     "output_type": "execute_result"
    }
   ],
   "source": [
    "temp = actions.merge(labels, on=['ACTIONID'])\n",
    "merged_actions =  temp.merge(features, on=['ACTIONID'])\n",
    "merged_actions"
   ]
  },
  {
   "cell_type": "code",
   "execution_count": null,
   "metadata": {},
   "outputs": [],
   "source": [
    "count = 0\n",
    "for action in merged_actions.iterrows():\n",
    "    count = count + 1"
   ]
  },
  {
   "cell_type": "code",
   "execution_count": null,
   "metadata": {},
   "outputs": [],
   "source": [
    "merged_actions"
   ]
  },
  {
   "cell_type": "code",
   "execution_count": null,
   "metadata": {},
   "outputs": [],
   "source": []
  }
 ],
 "metadata": {
  "interpreter": {
   "hash": "b0fa6594d8f4cbf19f97940f81e996739fb7646882a419484c72d19e05852a7e"
  },
  "kernelspec": {
   "display_name": "Python 3 (ipykernel)",
   "language": "python",
   "name": "python3"
  },
  "language_info": {
   "codemirror_mode": {
    "name": "ipython",
    "version": 3
   },
   "file_extension": ".py",
   "mimetype": "text/x-python",
   "name": "python",
   "nbconvert_exporter": "python",
   "pygments_lexer": "ipython3",
   "version": "3.9.13"
  }
 },
 "nbformat": 4,
 "nbformat_minor": 2
}
